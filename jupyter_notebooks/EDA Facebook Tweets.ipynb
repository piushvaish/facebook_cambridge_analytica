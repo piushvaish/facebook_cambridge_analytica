{
 "cells": [
  {
   "cell_type": "code",
   "execution_count": 1,
   "metadata": {
    "collapsed": true
   },
   "outputs": [],
   "source": [
    "#import libraries\n",
    "import json\n",
    "import pandas as pd\n",
    "import numpy as np \n",
    "import seaborn as sns\n",
    "import matplotlib as mpl\n",
    "import matplotlib.pyplot as plt\n",
    "%matplotlib inline\n",
    "import warnings\n",
    "%config InlineBackend.figure_format = 'png' #set 'png' here when working on notebook\n",
    "warnings.filterwarnings('ignore') \n",
    "pd.options.display.max_columns = 100\n",
    "pd.options.display.max_rows = 100\n",
    "\n",
    "tweet_facebook = pd.read_json(r'C:\\Users\\piush\\Desktop\\Facebook Data\\extra_data\\Facebook_2018-03-25_to_2018-04-02.json', lines=True)"
   ]
  },
  {
   "cell_type": "code",
   "execution_count": 2,
   "metadata": {
    "collapsed": true
   },
   "outputs": [],
   "source": [
    "#convert the json file to csv\n",
    "tweet_facebook.to_csv(\"tweets_facebook.csv\", index = False)"
   ]
  },
  {
   "cell_type": "code",
   "execution_count": 3,
   "metadata": {
    "collapsed": true
   },
   "outputs": [],
   "source": [
    "df1 = pd.read_csv(\"tweets_facebook.csv\", encoding = \"ISO-8859-1\")"
   ]
  },
  {
   "cell_type": "code",
   "execution_count": 7,
   "metadata": {},
   "outputs": [
    {
     "data": {
      "text/html": [
       "<div>\n",
       "<style>\n",
       "    .dataframe thead tr:only-child th {\n",
       "        text-align: right;\n",
       "    }\n",
       "\n",
       "    .dataframe thead th {\n",
       "        text-align: left;\n",
       "    }\n",
       "\n",
       "    .dataframe tbody tr th {\n",
       "        vertical-align: top;\n",
       "    }\n",
       "</style>\n",
       "<table border=\"1\" class=\"dataframe\">\n",
       "  <thead>\n",
       "    <tr style=\"text-align: right;\">\n",
       "      <th></th>\n",
       "      <th>contributors</th>\n",
       "      <th>coordinates</th>\n",
       "      <th>created_at</th>\n",
       "      <th>entities</th>\n",
       "      <th>extended_entities</th>\n",
       "      <th>favorite_count</th>\n",
       "      <th>favorited</th>\n",
       "      <th>geo</th>\n",
       "      <th>id</th>\n",
       "      <th>id_str</th>\n",
       "      <th>in_reply_to_screen_name</th>\n",
       "      <th>in_reply_to_status_id</th>\n",
       "      <th>in_reply_to_status_id_str</th>\n",
       "      <th>in_reply_to_user_id</th>\n",
       "      <th>in_reply_to_user_id_str</th>\n",
       "      <th>is_quote_status</th>\n",
       "      <th>lang</th>\n",
       "      <th>metadata</th>\n",
       "      <th>place</th>\n",
       "      <th>possibly_sensitive</th>\n",
       "      <th>quoted_status</th>\n",
       "      <th>quoted_status_id</th>\n",
       "      <th>quoted_status_id_str</th>\n",
       "      <th>retweet_count</th>\n",
       "      <th>retweeted</th>\n",
       "      <th>retweeted_status</th>\n",
       "      <th>source</th>\n",
       "      <th>text</th>\n",
       "      <th>truncated</th>\n",
       "      <th>user</th>\n",
       "    </tr>\n",
       "  </thead>\n",
       "  <tbody>\n",
       "    <tr>\n",
       "      <th>0</th>\n",
       "      <td>NaN</td>\n",
       "      <td>NaN</td>\n",
       "      <td>2018-04-02 23:49:42</td>\n",
       "      <td>{'urls': [{'display_url': 'twitter.com/busines...</td>\n",
       "      <td>NaN</td>\n",
       "      <td>1</td>\n",
       "      <td>False</td>\n",
       "      <td>NaN</td>\n",
       "      <td>980955464509902848</td>\n",
       "      <td>980955464509902848</td>\n",
       "      <td>NaN</td>\n",
       "      <td>NaN</td>\n",
       "      <td>NaN</td>\n",
       "      <td>NaN</td>\n",
       "      <td>NaN</td>\n",
       "      <td>True</td>\n",
       "      <td>en</td>\n",
       "      <td>{'iso_language_code': 'en', 'result_type': 're...</td>\n",
       "      <td>NaN</td>\n",
       "      <td>0.0</td>\n",
       "      <td>{'retweeted': False, 'lang': 'en', 'id': 98095...</td>\n",
       "      <td>9.809551e+17</td>\n",
       "      <td>9.809551e+17</td>\n",
       "      <td>0</td>\n",
       "      <td>False</td>\n",
       "      <td>NaN</td>\n",
       "      <td>&lt;a href=\"http://twitter.com\" rel=\"nofollow\"&gt;Tw...</td>\n",
       "      <td>Further downward pressure on Facebook shares w...</td>\n",
       "      <td>False</td>\n",
       "      <td>{'lang': 'en', 'is_translator': False, 'id': 1...</td>\n",
       "    </tr>\n",
       "    <tr>\n",
       "      <th>1</th>\n",
       "      <td>NaN</td>\n",
       "      <td>NaN</td>\n",
       "      <td>2018-04-02 23:23:38</td>\n",
       "      <td>{'urls': [{'display_url': 'twitter.com/i/web/s...</td>\n",
       "      <td>NaN</td>\n",
       "      <td>0</td>\n",
       "      <td>False</td>\n",
       "      <td>NaN</td>\n",
       "      <td>980948904228335616</td>\n",
       "      <td>980948904228335616</td>\n",
       "      <td>NaN</td>\n",
       "      <td>NaN</td>\n",
       "      <td>NaN</td>\n",
       "      <td>NaN</td>\n",
       "      <td>NaN</td>\n",
       "      <td>False</td>\n",
       "      <td>de</td>\n",
       "      <td>{'iso_language_code': 'de', 'result_type': 're...</td>\n",
       "      <td>NaN</td>\n",
       "      <td>0.0</td>\n",
       "      <td>NaN</td>\n",
       "      <td>NaN</td>\n",
       "      <td>NaN</td>\n",
       "      <td>0</td>\n",
       "      <td>False</td>\n",
       "      <td>NaN</td>\n",
       "      <td>&lt;a href=\"http://www.socialflow.com\" rel=\"nofol...</td>\n",
       "      <td>In den USA geraten Tech-Aktien erneut unter Dr...</td>\n",
       "      <td>True</td>\n",
       "      <td>{'lang': 'de', 'is_translator': False, 'id': 5...</td>\n",
       "    </tr>\n",
       "  </tbody>\n",
       "</table>\n",
       "</div>"
      ],
      "text/plain": [
       "   contributors  coordinates           created_at  \\\n",
       "0           NaN          NaN  2018-04-02 23:49:42   \n",
       "1           NaN          NaN  2018-04-02 23:23:38   \n",
       "\n",
       "                                            entities extended_entities  \\\n",
       "0  {'urls': [{'display_url': 'twitter.com/busines...               NaN   \n",
       "1  {'urls': [{'display_url': 'twitter.com/i/web/s...               NaN   \n",
       "\n",
       "   favorite_count  favorited  geo                  id              id_str  \\\n",
       "0               1      False  NaN  980955464509902848  980955464509902848   \n",
       "1               0      False  NaN  980948904228335616  980948904228335616   \n",
       "\n",
       "  in_reply_to_screen_name  in_reply_to_status_id  in_reply_to_status_id_str  \\\n",
       "0                     NaN                    NaN                        NaN   \n",
       "1                     NaN                    NaN                        NaN   \n",
       "\n",
       "   in_reply_to_user_id  in_reply_to_user_id_str  is_quote_status lang  \\\n",
       "0                  NaN                      NaN             True   en   \n",
       "1                  NaN                      NaN            False   de   \n",
       "\n",
       "                                            metadata place  \\\n",
       "0  {'iso_language_code': 'en', 'result_type': 're...   NaN   \n",
       "1  {'iso_language_code': 'de', 'result_type': 're...   NaN   \n",
       "\n",
       "   possibly_sensitive                                      quoted_status  \\\n",
       "0                 0.0  {'retweeted': False, 'lang': 'en', 'id': 98095...   \n",
       "1                 0.0                                                NaN   \n",
       "\n",
       "   quoted_status_id  quoted_status_id_str  retweet_count  retweeted  \\\n",
       "0      9.809551e+17          9.809551e+17              0      False   \n",
       "1               NaN                   NaN              0      False   \n",
       "\n",
       "  retweeted_status                                             source  \\\n",
       "0              NaN  <a href=\"http://twitter.com\" rel=\"nofollow\">Tw...   \n",
       "1              NaN  <a href=\"http://www.socialflow.com\" rel=\"nofol...   \n",
       "\n",
       "                                                text  truncated  \\\n",
       "0  Further downward pressure on Facebook shares w...      False   \n",
       "1  In den USA geraten Tech-Aktien erneut unter Dr...       True   \n",
       "\n",
       "                                                user  \n",
       "0  {'lang': 'en', 'is_translator': False, 'id': 1...  \n",
       "1  {'lang': 'de', 'is_translator': False, 'id': 5...  "
      ]
     },
     "execution_count": 7,
     "metadata": {},
     "output_type": "execute_result"
    }
   ],
   "source": [
    "df1.head(2)"
   ]
  },
  {
   "cell_type": "code",
   "execution_count": 8,
   "metadata": {},
   "outputs": [
    {
     "data": {
      "text/plain": [
       "Index(['contributors', 'coordinates', 'created_at', 'entities',\n",
       "       'extended_entities', 'favorite_count', 'favorited', 'geo', 'id',\n",
       "       'id_str', 'in_reply_to_screen_name', 'in_reply_to_status_id',\n",
       "       'in_reply_to_status_id_str', 'in_reply_to_user_id',\n",
       "       'in_reply_to_user_id_str', 'is_quote_status', 'lang', 'metadata',\n",
       "       'place', 'possibly_sensitive', 'quoted_status', 'quoted_status_id',\n",
       "       'quoted_status_id_str', 'retweet_count', 'retweeted',\n",
       "       'retweeted_status', 'source', 'text', 'truncated', 'user'],\n",
       "      dtype='object')"
      ]
     },
     "execution_count": 8,
     "metadata": {},
     "output_type": "execute_result"
    }
   ],
   "source": [
    "df1.columns"
   ]
  },
  {
   "cell_type": "code",
   "execution_count": 9,
   "metadata": {
    "collapsed": true
   },
   "outputs": [],
   "source": [
    "#drop all columns with missing values\n",
    "df_no_missing = df1.dropna(axis = 1)"
   ]
  },
  {
   "cell_type": "code",
   "execution_count": 10,
   "metadata": {
    "collapsed": true
   },
   "outputs": [],
   "source": [
    "df_no_missing.to_csv(\"clean_facebook_tweets.csv\", index = False)"
   ]
  },
  {
   "cell_type": "code",
   "execution_count": 11,
   "metadata": {
    "collapsed": true
   },
   "outputs": [],
   "source": [
    "df = pd.read_csv(\"clean_facebook_tweets.csv\", encoding = \"ISO-8859-1\",  parse_dates=['created_at'])"
   ]
  },
  {
   "cell_type": "code",
   "execution_count": 12,
   "metadata": {
    "collapsed": true
   },
   "outputs": [],
   "source": [
    "#separating created_at, metadata and user into different columns\n",
    "df['year'] = df['created_at'].apply(lambda x : x.year)\n",
    "df['month'] = df['created_at'].apply(lambda x : x.month)\n",
    "df['day'] = df['created_at'].apply(lambda x : x.day)\n",
    "df['hour'] = df['created_at'].apply(lambda x : x.hour)\n",
    "df['minute'] = df['created_at'].apply(lambda x : x.minute)\n",
    "df['second'] = df['created_at'].apply(lambda x : x.second)\n",
    "df['language'] = df['metadata'].apply(lambda x : list(eval(x).values())[0])\n",
    "df['result_type'] = df['metadata'].apply(lambda x : list(eval(x).values())[1])\n",
    "df['lang'] = df['user'].apply(lambda x : list(eval(x).values())[0])\n",
    "df['is_translator'] = df['user'].apply(lambda x : list(eval(x).values())[1])\n",
    "df['id_user'] = df['user'].apply(lambda x : list(eval(x).values())[2])\n",
    "df['profile_background_image_url'] = df['user'].apply(lambda x : list(eval(x).values())[3])\n",
    "df['profile_text_color'] = df['user'].apply(lambda x : list(eval(x).values())[4])\n",
    "df['profile_link_color'] = df['user'].apply(lambda x : list(eval(x).values())[5])\n",
    "df['verified'] = df['user'].apply(lambda x : list(eval(x).values())[6])\n",
    "df['profile_image_url_https'] = df['user'].apply(lambda x : list(eval(x).values())[7])\n",
    "df['id_str_user'] = df['user'].apply(lambda x : list(eval(x).values())[8])\n",
    "df['following'] = df['user'].apply(lambda x : list(eval(x).values())[9])\n",
    "df['friends_count'] = df['user'].apply(lambda x : list(eval(x).values())[10])\n",
    "df['default_profile'] = df['user'].apply(lambda x : list(eval(x).values())[11])\n",
    "df['profile_background_tile'] = df['user'].apply(lambda x : list(eval(x).values())[12])\n",
    "df['followers_count'] = df['user'].apply(lambda x : list(eval(x).values())[13])\n",
    "df['profile_background_image_url_https'] = df['user'].apply(lambda x : list(eval(x).values())[14])\n",
    "df['statuses_count'] = df['user'].apply(lambda x : list(eval(x).values())[15])\n",
    "df['description'] = df['user'].apply(lambda x : list(eval(x).values())[16])\n",
    "df['contributors_enabled'] = df['user'].apply(lambda x : list(eval(x).values())[17])\n",
    "df['utc_offset'] = df['user'].apply(lambda x : list(eval(x).values())[18])\n",
    "df['notifications'] = df['user'].apply(lambda x : list(eval(x).values())[19])\n",
    "df['has_extended_profile'] = df['user'].apply(lambda x : list(eval(x).values())[20])\n",
    "df['profile_sidebar_fill_color'] = df['user'].apply(lambda x : list(eval(x).values())[21])\n",
    "df['profile_background_color'] = df['user'].apply(lambda x : list(eval(x).values())[22])\n",
    "df['profile_use_background_image'] = df['user'].apply(lambda x : list(eval(x).values())[23])\n",
    "df['follow_request_sent'] = df['user'].apply(lambda x : list(eval(x).values())[24])"
   ]
  },
  {
   "cell_type": "code",
   "execution_count": 13,
   "metadata": {
    "collapsed": true
   },
   "outputs": [],
   "source": [
    "#df['date'] = str(df['year']) +\"/\"+str(df['month'])+\"/\"+str(df['day'])"
   ]
  },
  {
   "cell_type": "code",
   "execution_count": 14,
   "metadata": {
    "collapsed": true
   },
   "outputs": [],
   "source": [
    "#del df['date']"
   ]
  },
  {
   "cell_type": "code",
   "execution_count": 15,
   "metadata": {},
   "outputs": [
    {
     "data": {
      "text/plain": [
       "'2/4/2018'"
      ]
     },
     "execution_count": 15,
     "metadata": {},
     "output_type": "execute_result"
    }
   ],
   "source": [
    "str(df['day'][0])+\"/\"+str(df['month'][100])+\"/\"+str(df['year'][100])"
   ]
  },
  {
   "cell_type": "code",
   "execution_count": 16,
   "metadata": {
    "collapsed": true
   },
   "outputs": [],
   "source": [
    "df.to_csv(\"transformed_tweets.csv\")"
   ]
  },
  {
   "cell_type": "code",
   "execution_count": 17,
   "metadata": {
    "collapsed": true
   },
   "outputs": [],
   "source": [
    "df = pd.read_csv(\"clean_facebook_tweets.csv\", encoding = \"ISO-8859-1\")"
   ]
  },
  {
   "cell_type": "code",
   "execution_count": 18,
   "metadata": {},
   "outputs": [
    {
     "data": {
      "text/plain": [
       "'2018-04-02 23:49:42'"
      ]
     },
     "execution_count": 18,
     "metadata": {},
     "output_type": "execute_result"
    }
   ],
   "source": [
    "df['created_at'][0]"
   ]
  },
  {
   "cell_type": "code",
   "execution_count": 19,
   "metadata": {},
   "outputs": [
    {
     "ename": "SyntaxError",
     "evalue": "invalid syntax (<ipython-input-19-ea37246bcf8d>, line 1)",
     "output_type": "error",
     "traceback": [
      "\u001b[1;36m  File \u001b[1;32m\"<ipython-input-19-ea37246bcf8d>\"\u001b[1;36m, line \u001b[1;32m1\u001b[0m\n\u001b[1;33m    .apply(lambda x : x.year)\u001b[0m\n\u001b[1;37m    ^\u001b[0m\n\u001b[1;31mSyntaxError\u001b[0m\u001b[1;31m:\u001b[0m invalid syntax\n"
     ]
    }
   ],
   "source": [
    ".apply(lambda x : x.year)"
   ]
  },
  {
   "cell_type": "code",
   "execution_count": null,
   "metadata": {
    "collapsed": true
   },
   "outputs": [],
   "source": [
    "import calendar\n",
    "import datetime\n",
    "df['date'] = df['created_at'].apply(lambda x : x.split(\" \")[0].replace(\"-\", \"/\"))"
   ]
  },
  {
   "cell_type": "code",
   "execution_count": 20,
   "metadata": {
    "collapsed": true
   },
   "outputs": [],
   "source": [
    "df.to_csv(\"test.csv\")"
   ]
  },
  {
   "cell_type": "code",
   "execution_count": null,
   "metadata": {
    "collapsed": true
   },
   "outputs": [],
   "source": [
    "df"
   ]
  },
  {
   "cell_type": "code",
   "execution_count": null,
   "metadata": {
    "collapsed": true
   },
   "outputs": [],
   "source": [
    "1. Could be price of the stock on 25th March 2018 .. when there were the retweet_count\n",
    "2. Price of stock when the stock on 27th March 2018 when favorite_count was 50 (max)"
   ]
  }
 ],
 "metadata": {
  "kernelspec": {
   "display_name": "Python 3",
   "language": "python",
   "name": "python3"
  },
  "language_info": {
   "codemirror_mode": {
    "name": "ipython",
    "version": 3
   },
   "file_extension": ".py",
   "mimetype": "text/x-python",
   "name": "python",
   "nbconvert_exporter": "python",
   "pygments_lexer": "ipython3",
   "version": "3.6.2"
  }
 },
 "nbformat": 4,
 "nbformat_minor": 2
}
