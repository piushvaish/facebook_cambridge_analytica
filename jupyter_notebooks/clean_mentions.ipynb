{
 "cells": [
  {
   "cell_type": "code",
   "execution_count": 1,
   "metadata": {
    "collapsed": true
   },
   "outputs": [],
   "source": [
    "#import libraries\n",
    "import json\n",
    "import pandas as pd\n",
    "import numpy as np \n",
    "import seaborn as sns\n",
    "import matplotlib as mpl\n",
    "import matplotlib.pyplot as plt\n",
    "%matplotlib inline\n",
    "import warnings\n",
    "%config InlineBackend.figure_format = 'png' #set 'png' here when working on notebook\n",
    "warnings.filterwarnings('ignore') \n",
    "pd.options.display.max_columns = 100\n",
    "pd.options.display.max_rows = 100"
   ]
  },
  {
   "cell_type": "code",
   "execution_count": 2,
   "metadata": {
    "collapsed": true
   },
   "outputs": [],
   "source": [
    "df = pd.read_csv(r\"C:\\Users\\piush\\Desktop\\Facebook Data\\extra_data\\mentions_facebook.csv\")"
   ]
  },
  {
   "cell_type": "code",
   "execution_count": 3,
   "metadata": {},
   "outputs": [
    {
     "data": {
      "text/plain": [
       "Index(['id', 'alert_id', 'title', 'description', 'url', 'published_at',\n",
       "       'source_type', 'language', 'country', 'favorite', 'tone', 'source_name',\n",
       "       'source_url', 'parent_url', 'parent_id', 'children', 'direct_reach',\n",
       "       'cumulative_reach', 'domain_reach', 'tags', 'score', 'alert_name'],\n",
       "      dtype='object')"
      ]
     },
     "execution_count": 3,
     "metadata": {},
     "output_type": "execute_result"
    }
   ],
   "source": [
    "df.columns"
   ]
  },
  {
   "cell_type": "code",
   "execution_count": 3,
   "metadata": {
    "collapsed": true
   },
   "outputs": [],
   "source": [
    "#remove column which have missing values"
   ]
  },
  {
   "cell_type": "code",
   "execution_count": 4,
   "metadata": {},
   "outputs": [
    {
     "data": {
      "text/plain": [
       "['title',\n",
       " 'description',\n",
       " 'country',\n",
       " 'source_name',\n",
       " 'parent_url',\n",
       " 'parent_id',\n",
       " 'direct_reach',\n",
       " 'cumulative_reach',\n",
       " 'domain_reach',\n",
       " 'tags',\n",
       " 'score']"
      ]
     },
     "execution_count": 4,
     "metadata": {},
     "output_type": "execute_result"
    }
   ],
   "source": [
    "#find columns with missing values\n",
    "df.columns[df.isnull().any()].tolist()"
   ]
  },
  {
   "cell_type": "code",
   "execution_count": 5,
   "metadata": {},
   "outputs": [
    {
     "data": {
      "text/html": [
       "<div>\n",
       "<style>\n",
       "    .dataframe thead tr:only-child th {\n",
       "        text-align: right;\n",
       "    }\n",
       "\n",
       "    .dataframe thead th {\n",
       "        text-align: left;\n",
       "    }\n",
       "\n",
       "    .dataframe tbody tr th {\n",
       "        vertical-align: top;\n",
       "    }\n",
       "</style>\n",
       "<table border=\"1\" class=\"dataframe\">\n",
       "  <thead>\n",
       "    <tr style=\"text-align: right;\">\n",
       "      <th></th>\n",
       "      <th>id</th>\n",
       "      <th>alert_id</th>\n",
       "      <th>title</th>\n",
       "      <th>description</th>\n",
       "      <th>url</th>\n",
       "      <th>published_at</th>\n",
       "      <th>source_type</th>\n",
       "      <th>language</th>\n",
       "      <th>country</th>\n",
       "      <th>favorite</th>\n",
       "      <th>tone</th>\n",
       "      <th>source_name</th>\n",
       "      <th>source_url</th>\n",
       "      <th>parent_url</th>\n",
       "      <th>parent_id</th>\n",
       "      <th>children</th>\n",
       "      <th>direct_reach</th>\n",
       "      <th>cumulative_reach</th>\n",
       "      <th>domain_reach</th>\n",
       "      <th>tags</th>\n",
       "      <th>score</th>\n",
       "      <th>alert_name</th>\n",
       "    </tr>\n",
       "  </thead>\n",
       "  <tbody>\n",
       "  </tbody>\n",
       "</table>\n",
       "</div>"
      ],
      "text/plain": [
       "Empty DataFrame\n",
       "Columns: [id, alert_id, title, description, url, published_at, source_type, language, country, favorite, tone, source_name, source_url, parent_url, parent_id, children, direct_reach, cumulative_reach, domain_reach, tags, score, alert_name]\n",
       "Index: []"
      ]
     },
     "execution_count": 5,
     "metadata": {},
     "output_type": "execute_result"
    }
   ],
   "source": [
    "#check if rows are duplicate\n",
    "df[df.duplicated()]\n",
    "#there are no duplicates"
   ]
  },
  {
   "cell_type": "code",
   "execution_count": 6,
   "metadata": {},
   "outputs": [
    {
     "data": {
      "text/plain": [
       "Index(['id', 'alert_id', 'title', 'description', 'url', 'published_at',\n",
       "       'source_type', 'language', 'country', 'favorite', 'tone', 'source_name',\n",
       "       'source_url', 'parent_url', 'parent_id', 'children', 'direct_reach',\n",
       "       'cumulative_reach', 'domain_reach', 'tags', 'score', 'alert_name'],\n",
       "      dtype='object')"
      ]
     },
     "execution_count": 6,
     "metadata": {},
     "output_type": "execute_result"
    }
   ],
   "source": [
    "df.columns"
   ]
  },
  {
   "cell_type": "code",
   "execution_count": null,
   "metadata": {
    "collapsed": true
   },
   "outputs": [],
   "source": []
  },
  {
   "cell_type": "code",
   "execution_count": 7,
   "metadata": {
    "collapsed": true
   },
   "outputs": [],
   "source": [
    "#separate the date into another column\n",
    "df['date'] = df['published_at'].apply(lambda x : x.split(\" \")[0].replace(\"-\", \"/\"))"
   ]
  },
  {
   "cell_type": "code",
   "execution_count": 8,
   "metadata": {
    "collapsed": true
   },
   "outputs": [],
   "source": [
    "df = pd.read_csv(r\"C:\\Users\\piush\\Desktop\\Facebook Data\\extra_data\\mentions_facebook.csv\",  parse_dates=['published_at'])"
   ]
  },
  {
   "cell_type": "code",
   "execution_count": 9,
   "metadata": {
    "collapsed": true
   },
   "outputs": [],
   "source": [
    "#separating created_at, metadata and user into different columns\n",
    "df['year'] = df['published_at'].apply(lambda x : x.year)\n",
    "df['month'] = df['published_at'].apply(lambda x : x.month)\n",
    "df['day'] = df['published_at'].apply(lambda x : x.day)\n",
    "df['hour'] = df['published_at'].apply(lambda x : x.hour)\n",
    "df['minute'] = df['published_at'].apply(lambda x : x.minute)\n",
    "df['second'] = df['published_at'].apply(lambda x : x.second)"
   ]
  },
  {
   "cell_type": "code",
   "execution_count": 13,
   "metadata": {
    "collapsed": true
   },
   "outputs": [],
   "source": [
    "df.to_csv(\"transformed_mentions.csv\")"
   ]
  },
  {
   "cell_type": "code",
   "execution_count": 15,
   "metadata": {
    "collapsed": true
   },
   "outputs": [],
   "source": [
    "df = pd.read_csv(\"transformed_mentions.csv\", encoding = \"ISO-8859-1\")"
   ]
  },
  {
   "cell_type": "code",
   "execution_count": null,
   "metadata": {
    "collapsed": true
   },
   "outputs": [],
   "source": []
  },
  {
   "cell_type": "code",
   "execution_count": null,
   "metadata": {
    "collapsed": true
   },
   "outputs": [],
   "source": []
  },
  {
   "cell_type": "code",
   "execution_count": null,
   "metadata": {
    "collapsed": true
   },
   "outputs": [],
   "source": []
  },
  {
   "cell_type": "code",
   "execution_count": 23,
   "metadata": {
    "collapsed": true
   },
   "outputs": [],
   "source": [
    "#delete columns with missing values\n",
    "df_small = df[['id','date', 'title', 'description', 'url', 'published_at',\n",
    "       'source_type', 'language', 'country', 'tone', 'source_name',\n",
    "       'source_url', 'parent_url', 'parent_id', 'direct_reach',\n",
    "       'domain_reach', 'score']]"
   ]
  },
  {
   "cell_type": "code",
   "execution_count": 24,
   "metadata": {
    "collapsed": true
   },
   "outputs": [],
   "source": [
    "df_small.to_csv(\"cleans_mention.csv\")"
   ]
  },
  {
   "cell_type": "code",
   "execution_count": null,
   "metadata": {
    "collapsed": true
   },
   "outputs": [],
   "source": []
  }
 ],
 "metadata": {
  "kernelspec": {
   "display_name": "Python 3",
   "language": "python",
   "name": "python3"
  },
  "language_info": {
   "codemirror_mode": {
    "name": "ipython",
    "version": 3
   },
   "file_extension": ".py",
   "mimetype": "text/x-python",
   "name": "python",
   "nbconvert_exporter": "python",
   "pygments_lexer": "ipython3",
   "version": "3.6.2"
  }
 },
 "nbformat": 4,
 "nbformat_minor": 2
}
