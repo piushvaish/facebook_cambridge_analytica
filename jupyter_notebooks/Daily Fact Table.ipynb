{
 "cells": [
  {
   "cell_type": "code",
   "execution_count": 1,
   "metadata": {
    "collapsed": true
   },
   "outputs": [],
   "source": [
    "#import libraries\n",
    "import json\n",
    "import pandas as pd\n",
    "import numpy as np \n",
    "import seaborn as sns\n",
    "import matplotlib as mpl\n",
    "import matplotlib.pyplot as plt\n",
    "%matplotlib inline\n",
    "import warnings\n",
    "%config InlineBackend.figure_format = 'png' #set 'png' here when working on notebook\n",
    "warnings.filterwarnings('ignore') \n",
    "pd.options.display.max_columns = 100\n",
    "pd.options.display.max_rows = 100\n"
   ]
  },
  {
   "cell_type": "code",
   "execution_count": 21,
   "metadata": {},
   "outputs": [],
   "source": [
    "tweet = pd.read_csv(r\"C:\\Users\\piush\\Desktop\\Facebook Data\\data_project\\transformed_tweets.csv\", encoding= \"ISO-8859-1\")"
   ]
  },
  {
   "cell_type": "code",
   "execution_count": 22,
   "metadata": {
    "collapsed": true
   },
   "outputs": [],
   "source": [
    "mention = pd.read_csv(r\"C:\\Users\\piush\\Desktop\\Facebook Data\\data_project\\transformed_mentions.csv\" , encoding= \"ISO-8859-1\")"
   ]
  },
  {
   "cell_type": "code",
   "execution_count": 80,
   "metadata": {},
   "outputs": [],
   "source": [
    "tweet_i = tweet[tweet['Date'].isin(['25/03/2018','26/03/2018','27/03/2018','28/03/2018','29/03/2018','30/03/2018','31/03/2018','01/04/2018','02/04/2018'])]"
   ]
  },
  {
   "cell_type": "code",
   "execution_count": 81,
   "metadata": {},
   "outputs": [],
   "source": [
    "mention_i = mention[mention['Date'].isin(['25/03/2018','26/03/2018','27/03/2018','28/03/2018','29/03/2018','30/03/2018','31/03/2018','01/04/2018','02/04/2018'])]"
   ]
  },
  {
   "cell_type": "code",
   "execution_count": 82,
   "metadata": {},
   "outputs": [
    {
     "data": {
      "text/plain": [
       "02/04/2018    5\n",
       "29/03/2018    4\n",
       "30/03/2018    3\n",
       "27/03/2018    3\n",
       "26/03/2018    2\n",
       "25/03/2018    2\n",
       "01/04/2018    1\n",
       "Name: Date, dtype: int64"
      ]
     },
     "execution_count": 82,
     "metadata": {},
     "output_type": "execute_result"
    }
   ],
   "source": [
    "mention_i['Date'].value_counts()"
   ]
  },
  {
   "cell_type": "code",
   "execution_count": 83,
   "metadata": {},
   "outputs": [
    {
     "data": {
      "text/plain": [
       "28/03/2018    361\n",
       "27/03/2018    314\n",
       "26/03/2018    210\n",
       "29/03/2018    142\n",
       "02/04/2018    103\n",
       "30/03/2018     61\n",
       "25/03/2018     48\n",
       "31/03/2018     38\n",
       "01/04/2018     20\n",
       "Name: Date, dtype: int64"
      ]
     },
     "execution_count": 83,
     "metadata": {},
     "output_type": "execute_result"
    }
   ],
   "source": [
    "tweet_i['Date'].value_counts()"
   ]
  },
  {
   "cell_type": "code",
   "execution_count": 84,
   "metadata": {
    "collapsed": true
   },
   "outputs": [],
   "source": [
    "stock_i = stock[stock['Date'].isin(['25/03/2018','26/03/2018','27/03/2018','28/03/2018','29/03/2018','30/03/2018','31/03/2018','01/04/2018','02/04/2018'])]"
   ]
  },
  {
   "cell_type": "code",
   "execution_count": 85,
   "metadata": {},
   "outputs": [
    {
     "data": {
      "text/plain": [
       "29/03/2018    1\n",
       "02/04/2018    1\n",
       "26/03/2018    1\n",
       "28/03/2018    1\n",
       "27/03/2018    1\n",
       "Name: Date, dtype: int64"
      ]
     },
     "execution_count": 85,
     "metadata": {},
     "output_type": "execute_result"
    }
   ],
   "source": [
    "stock_i['Date'].value_counts()"
   ]
  },
  {
   "cell_type": "code",
   "execution_count": 57,
   "metadata": {},
   "outputs": [
    {
     "data": {
      "text/plain": [
       "(1087, 40)"
      ]
     },
     "execution_count": 57,
     "metadata": {},
     "output_type": "execute_result"
    }
   ],
   "source": [
    "tweet_i.shape"
   ]
  },
  {
   "cell_type": "code",
   "execution_count": 52,
   "metadata": {},
   "outputs": [],
   "source": [
    "stock = pd.read_csv(r\"C:\\Users\\piush\\Desktop\\Facebook Data\\data_project\\stock.csv\", encoding= \"ISO-8859-1\")"
   ]
  },
  {
   "cell_type": "code",
   "execution_count": 70,
   "metadata": {},
   "outputs": [
    {
     "data": {
      "text/plain": [
       "(2324, 63)"
      ]
     },
     "execution_count": 70,
     "metadata": {},
     "output_type": "execute_result"
    }
   ],
   "source": [
    "pd.merge(tweet_i, mention_i, how='inner', on= 'Date').shape"
   ]
  },
  {
   "cell_type": "code",
   "execution_count": 77,
   "metadata": {},
   "outputs": [
    {
     "data": {
      "text/plain": [
       "0        US\n",
       "1        US\n",
       "2        RO\n",
       "3        GB\n",
       "4        US\n",
       "5        US\n",
       "6        US\n",
       "7        US\n",
       "8        US\n",
       "9        US\n",
       "10       US\n",
       "11       US\n",
       "12       MX\n",
       "13       US\n",
       "14       US\n",
       "15       US\n",
       "16       GB\n",
       "17       US\n",
       "18       US\n",
       "19      NaN\n",
       "20      NaN\n",
       "21      NaN\n",
       "22      NaN\n",
       "23      NaN\n",
       "24      NaN\n",
       "25      NaN\n",
       "26      NaN\n",
       "27      NaN\n",
       "28      NaN\n",
       "29      NaN\n",
       "30      NaN\n",
       "31      NaN\n",
       "32      NaN\n",
       "33      NaN\n",
       "34      NaN\n",
       "35      NaN\n",
       "36      NaN\n",
       "37      NaN\n",
       "38      NaN\n",
       "39      NaN\n",
       "40      NaN\n",
       "41      NaN\n",
       "42      NaN\n",
       "43      NaN\n",
       "44      NaN\n",
       "45      NaN\n",
       "46      NaN\n",
       "47      NaN\n",
       "258     NaN\n",
       "259     NaN\n",
       "       ... \n",
       "1247    NaN\n",
       "1248    NaN\n",
       "1249    NaN\n",
       "1250    NaN\n",
       "1251    NaN\n",
       "1252    NaN\n",
       "1253    NaN\n",
       "1254    NaN\n",
       "1255    NaN\n",
       "1256    NaN\n",
       "1257    NaN\n",
       "1258    NaN\n",
       "1259    NaN\n",
       "1260    NaN\n",
       "1261    NaN\n",
       "1262    NaN\n",
       "1263    NaN\n",
       "1264    NaN\n",
       "1265    NaN\n",
       "1266    NaN\n",
       "1267    NaN\n",
       "1268    NaN\n",
       "1269    NaN\n",
       "1270    NaN\n",
       "1271    NaN\n",
       "1272    NaN\n",
       "1273    NaN\n",
       "1274    NaN\n",
       "1275    NaN\n",
       "1276    NaN\n",
       "1277    NaN\n",
       "1278    NaN\n",
       "1279    NaN\n",
       "1280    NaN\n",
       "1281    NaN\n",
       "1282    NaN\n",
       "1283    NaN\n",
       "1284    NaN\n",
       "1285    NaN\n",
       "1286    NaN\n",
       "1287    NaN\n",
       "1288    NaN\n",
       "1289    NaN\n",
       "1290    NaN\n",
       "1291    NaN\n",
       "1292    NaN\n",
       "1293    NaN\n",
       "1294    NaN\n",
       "1295    NaN\n",
       "1296    NaN\n",
       "Name: country, Length: 1087, dtype: object"
      ]
     },
     "execution_count": 77,
     "metadata": {},
     "output_type": "execute_result"
    }
   ],
   "source": [
    "tweet_i.join(mention_i,  lsuffix='Date', rsuffix='Date')['country']"
   ]
  },
  {
   "cell_type": "code",
   "execution_count": 54,
   "metadata": {},
   "outputs": [
    {
     "data": {
      "text/plain": [
       "27/03/2018    942\n",
       "29/03/2018    568\n",
       "02/04/2018    515\n",
       "30/03/2018    183\n",
       "25/03/2018     96\n",
       "01/04/2018     20\n",
       "Name: Date, dtype: int64"
      ]
     },
     "execution_count": 54,
     "metadata": {},
     "output_type": "execute_result"
    }
   ],
   "source": [
    "a['Date'].value_counts()"
   ]
  },
  {
   "cell_type": "code",
   "execution_count": 66,
   "metadata": {
    "collapsed": true
   },
   "outputs": [],
   "source": [
    "d = pd.merge(a,stock, how='inner', on= 'Date')"
   ]
  },
  {
   "cell_type": "code",
   "execution_count": 68,
   "metadata": {},
   "outputs": [
    {
     "data": {
      "text/plain": [
       "(2445, 73)"
      ]
     },
     "execution_count": 68,
     "metadata": {},
     "output_type": "execute_result"
    }
   ],
   "source": [
    "d.shape"
   ]
  },
  {
   "cell_type": "code",
   "execution_count": 57,
   "metadata": {
    "collapsed": true
   },
   "outputs": [],
   "source": [
    "d[[ 'favorite_count', 'id_x','retweet_count','language_x','Date', 'id_y', 'score', 'id', 'Open', 'High', 'Low', 'Close',\n",
    "       'Adj Close','second_x']].to_csv(\"d.csv\", index = None)"
   ]
  },
  {
   "cell_type": "code",
   "execution_count": 58,
   "metadata": {},
   "outputs": [
    {
     "data": {
      "text/plain": [
       "True     2806\n",
       "False     337\n",
       "Name: Date, dtype: int64"
      ]
     },
     "execution_count": 58,
     "metadata": {},
     "output_type": "execute_result"
    }
   ],
   "source": [
    "a['Date'].isin(stock['Date']).value_counts()"
   ]
  },
  {
   "cell_type": "code",
   "execution_count": 63,
   "metadata": {},
   "outputs": [
    {
     "data": {
      "text/plain": [
       "True     898\n",
       "False    399\n",
       "Name: Date, dtype: int64"
      ]
     },
     "execution_count": 63,
     "metadata": {},
     "output_type": "execute_result"
    }
   ],
   "source": [
    "(tweet['Date'].isin(mention['Date']).value_counts()"
   ]
  },
  {
   "cell_type": "code",
   "execution_count": null,
   "metadata": {
    "collapsed": true
   },
   "outputs": [],
   "source": []
  }
 ],
 "metadata": {
  "kernelspec": {
   "display_name": "Python 3",
   "language": "python",
   "name": "python3"
  }
 },
 "nbformat": 4,
 "nbformat_minor": 2
}
